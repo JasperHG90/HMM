{
 "cells": [
  {
   "cell_type": "markdown",
   "metadata": {},
   "source": [
    "# Hidden Markov Models\n",
    "\n",
    "In this notebook, I implement a Hidden Markov Model (HMM) with Gaussian Response variables based on text and code examples of Zucchini and MacDonald [1].\n",
    "\n",
    "HMMs are characterized by the following [2]:\n",
    "\n",
    "1. They try to infer **hidden** or **latent** states from discrete or continuous time-series data. Consider the image below. On the x-axis we have time, so this is a time-series dataset. On the y-axis we have four sleep stages (light, deep, REM sleep and wakefulness). These are the latent stages. My fitbit attempts to extract these stages based on my movement and heart rate for each point in the time-series. This results in a sequence of latent states. For the image below, that would look something like this: (Awake, REM, REM, REM, ..., Deep, Deep, REM, Deep, Deep, Awake, ...) and so on.\n",
    "\n",
    "<img src=\"img/sleeeeeeping.PNG\" width=\"500\">\n",
    "\n",
    "2. They are **memoryless** models. When predicting the state at time point $t$, these models only look at the state at $t-1$ to infer the probability of transitioning into a next state. If the state at $t-1$ is REM, then what is the probability of observing the next state as REM, light, deep sleep or wakefulness? This is also called the *Markov assumption*.\n",
    "\n",
    "3. Each state has its own **component distribution**, and the joint distribution of these component distribution is a **mixture distribution**. All this means is that we think that REM sleep, light sleep, deep sleep and wakefulness have different distributions when we consider movement and heart rate. This is easy enough to believe if you think about these variables; a person who is awake typically has a heart rate between 60-100 BPM, whereas a person in deep sleep has a heart rate of 50-60 BPM. If we believed these variables to be normally distributed, then we could model the heart rate component distributions using the means 75 for wakefulness and 55 for deep sleep. Depending on which heart rate we observe at each time step, we can compute the probability of seeing that observation for each of the component distributions.\n",
    "\n",
    "Note that the mixture distribution in (3) is not independent. In independent mixture distributions (e.g. multivariate normal distribution) the observations are drawn without conditioning on a third variable (for example a sleep state at a specific point in time). In our case, however, the observations are drawn based on the previous state, and these probabilities are different for each state. For example, it is not likely that you will go from wakefulness into REM sleep immediately, so the probability of seeing this state after observing a wakeful state is low. Conversely, it is very likely that you will go from light sleep to REM, so the probability associated with this transition is much higher.\n",
    "\n",
    "### Notation\n",
    "\n",
    "I use the following notation in this notebook [1]. \n",
    "\n",
    "* For a time-series sequence of length $T$, let the observed outcome data (e.g. movement/heart rate) be denoted by $X_{1:T} := (X_1, X_2, \\dots, X_T)$.\n",
    "* Let $m$ denote the number of components in the HMM and let $C_t = i, i \\in \\{1, 2, \\dots, m\\}$ denote the component of the HMM at time $t$. \n",
    "* The distribution $X_t$ of the observed data is considered to be dependent on the state $C_t$, so that we can write $p_i(X_t) := p(X_t | C_t = i)$.\n",
    "* The marginal distribution (collapsed over all the states) is given by the mixture distribution $p(X_t) = \\sum_{i=1}^m \\delta_i p_i(X_t"
   ]
  },
  {
   "cell_type": "markdown",
   "metadata": {},
   "source": [
    "## Simulating data for Gaussian response distributions\n",
    "\n",
    "### Simulating a hidden sequence"
   ]
  },
  {
   "cell_type": "code",
   "execution_count": 69,
   "metadata": {},
   "outputs": [],
   "source": [
    "import numpy as np\n",
    "\n",
    "# Number of components \n",
    "k = 2\n",
    "# Timesteps t\n",
    "T = 100\n",
    "# Set seed\n",
    "np.random.seed(563)\n",
    "# Transition matrix\n",
    "g = np.array([[0.33, 0.67],\n",
    "              [0.89, 0.11]])\n",
    "# Initial states\n",
    "pi = np.array([0.71, 0.29])\n",
    "# mu / sd of the states\n",
    "mu = np.array([7,15])\n",
    "sd = np.array([2,4])\n",
    "# Draw from one of the states with probability pi_i\n",
    "np.random.multinomial(1, pi)\n",
    "# Generate sequence\n",
    "seq = np.zeros((T, 1), dtype = np.int32)\n",
    "for t in range(T):\n",
    "    if t == 0:\n",
    "        seq[t,:] = int(np.nonzero(np.random.multinomial(1, pi))[0])\n",
    "    else:\n",
    "        seq[t,:] = int(np.nonzero(np.random.multinomial(1, np.dot(pi, np.linalg.matrix_power(g, t))))[0])\n",
    "        \n",
    "# Squeeze output\n",
    "seq = seq.squeeze()"
   ]
  },
  {
   "cell_type": "markdown",
   "metadata": {},
   "source": [
    "### Simulating observed data "
   ]
  },
  {
   "cell_type": "code",
   "execution_count": 70,
   "metadata": {},
   "outputs": [],
   "source": [
    "# Allocate\n",
    "obs = np.zeros(T, dtype = np.float32)\n",
    "# Set seed\n",
    "np.random.seed(886)\n",
    "# Populate\n",
    "for i in range(T):\n",
    "    # Get state\n",
    "    state = seq[i]\n",
    "    # Draw from normal distribution\n",
    "    obs[i] = np.round(np.random.normal(mu[state], sd[state]), 4)"
   ]
  },
  {
   "cell_type": "code",
   "execution_count": 71,
   "metadata": {},
   "outputs": [
    {
     "name": "stderr",
     "output_type": "stream",
     "text": [
      "/home/jasper/.local/lib/python3.6/site-packages/matplotlib/axes/_axes.py:6571: UserWarning: The 'normed' kwarg is deprecated, and has been replaced by the 'density' kwarg.\n",
      "  warnings.warn(\"The 'normed' kwarg is deprecated, and has been \"\n"
     ]
    },
    {
     "data": {
      "text/plain": [
       "<matplotlib.axes._subplots.AxesSubplot at 0x7f6983551320>"
      ]
     },
     "execution_count": 71,
     "metadata": {},
     "output_type": "execute_result"
    },
    {
     "data": {
      "image/png": "[encoded data removed]",
      "text/plain": [
       "<Figure size 432x288 with 1 Axes>"
      ]
     },
     "metadata": {},
     "output_type": "display_data"
    }
   ],
   "source": [
    "# Plot observed data\n",
    "import matplotlib.pyplot as plt\n",
    "%matplotlib inline\n",
    "import seaborn as sns\n",
    "sns.distplot(obs)"
   ]
  },
  {
   "cell_type": "markdown",
   "metadata": {},
   "source": [
    "## Estimating the state sequence"
   ]
  },
  {
   "cell_type": "code",
   "execution_count": 72,
   "metadata": {},
   "outputs": [],
   "source": [
    "# Forward algorithm\n",
    "from scipy.stats import norm\n",
    "\n",
    "# We use the initial probabilities pi\n",
    "# NOTE: we shouldn't really know these ...\n",
    "\n",
    "# Initialize alpha using the initial distribution\n",
    "alpha = pi\n",
    "# Initialize states to 0\n",
    "states = np.zeros(T, dtype = np.int32)\n",
    "# For each observation and timestep t, compute the state using the forward algorithm\n",
    "for t, x in enumerate(obs):\n",
    "    # Compute probabilities for x at timestep t\n",
    "    # Note that we are not assuming stationarity because we have alpha_1 = pi * P \n",
    "    #  at t == 1\n",
    "    # Note that we are using population values mu and sd here\n",
    "    p = norm.pdf(x, mu, sd)\n",
    "    # Convert to diagonal matrix\n",
    "    P = np.diag(p)\n",
    "    # Form the matrix B\n",
    "    B = np.dot(g, P)\n",
    "    # Update alpha\n",
    "    alpha = np.dot(alpha, B)\n",
    "    # Add state\n",
    "    states[t] = np.argmax(alpha)\n",
    "    # At the last step, dot with 1' to get the likelihood\n",
    "    if t == (T-1):\n",
    "        L = np.dot(alpha, np.ones((k, 1), dtype = np.int32))"
   ]
  },
  {
   "cell_type": "code",
   "execution_count": 73,
   "metadata": {},
   "outputs": [
    {
     "name": "stdout",
     "output_type": "stream",
     "text": [
      "First 10 observations ...\n"
     ]
    },
    {
     "data": {
      "text/html": [
       "<div>\n",
       "<style scoped>\n",
       "    .dataframe tbody tr th:only-of-type {\n",
       "        vertical-align: middle;\n",
       "    }\n",
       "\n",
       "    .dataframe tbody tr th {\n",
       "        vertical-align: top;\n",
       "    }\n",
       "\n",
       "    .dataframe thead th {\n",
       "        text-align: right;\n",
       "    }\n",
       "</style>\n",
       "<table border=\"1\" class=\"dataframe\">\n",
       "  <thead>\n",
       "    <tr style=\"text-align: right;\">\n",
       "      <th></th>\n",
       "      <th>predicted</th>\n",
       "      <th>actual</th>\n",
       "    </tr>\n",
       "  </thead>\n",
       "  <tbody>\n",
       "    <tr>\n",
       "      <th>0</th>\n",
       "      <td>0</td>\n",
       "      <td>0</td>\n",
       "    </tr>\n",
       "    <tr>\n",
       "      <th>1</th>\n",
       "      <td>0</td>\n",
       "      <td>0</td>\n",
       "    </tr>\n",
       "    <tr>\n",
       "      <th>2</th>\n",
       "      <td>0</td>\n",
       "      <td>0</td>\n",
       "    </tr>\n",
       "    <tr>\n",
       "      <th>3</th>\n",
       "      <td>0</td>\n",
       "      <td>0</td>\n",
       "    </tr>\n",
       "    <tr>\n",
       "      <th>4</th>\n",
       "      <td>1</td>\n",
       "      <td>0</td>\n",
       "    </tr>\n",
       "    <tr>\n",
       "      <th>5</th>\n",
       "      <td>1</td>\n",
       "      <td>1</td>\n",
       "    </tr>\n",
       "    <tr>\n",
       "      <th>6</th>\n",
       "      <td>0</td>\n",
       "      <td>0</td>\n",
       "    </tr>\n",
       "    <tr>\n",
       "      <th>7</th>\n",
       "      <td>1</td>\n",
       "      <td>1</td>\n",
       "    </tr>\n",
       "    <tr>\n",
       "      <th>8</th>\n",
       "      <td>0</td>\n",
       "      <td>0</td>\n",
       "    </tr>\n",
       "    <tr>\n",
       "      <th>9</th>\n",
       "      <td>1</td>\n",
       "      <td>1</td>\n",
       "    </tr>\n",
       "  </tbody>\n",
       "</table>\n",
       "</div>"
      ],
      "text/plain": [
       "   predicted  actual\n",
       "0          0       0\n",
       "1          0       0\n",
       "2          0       0\n",
       "3          0       0\n",
       "4          1       0\n",
       "5          1       1\n",
       "6          0       0\n",
       "7          1       1\n",
       "8          0       0\n",
       "9          1       1"
      ]
     },
     "execution_count": 73,
     "metadata": {},
     "output_type": "execute_result"
    }
   ],
   "source": [
    "# Stack predicted and actual states column-wise\n",
    "import pandas as pd\n",
    "seqs = np.vstack((states,seq)).T\n",
    "# Cast to data frame\n",
    "print(\"First 10 observations ...\")\n",
    "pd.DataFrame(seqs, columns = [\"predicted\", \"actual\"]).head(10)"
   ]
  },
  {
   "cell_type": "code",
   "execution_count": 74,
   "metadata": {},
   "outputs": [
    {
     "name": "stdout",
     "output_type": "stream",
     "text": [
      "Likelihood: [9.83704503e-129]\n",
      "Alphas at time T: [5.34333284e-138 9.83704502e-129]\n"
     ]
    }
   ],
   "source": [
    "# Print likelihood and alphas\n",
    "print(\"Likelihood: {}\".format(L))\n",
    "print(\"Alphas at time T: {}\".format(alpha))"
   ]
  },
  {
   "cell_type": "markdown",
   "metadata": {},
   "source": [
    "In the above implementation of the forward algorithm, clearly we are running into the issue of underflow. The values for the alphas are getting very small, and we need to start using some computational tricks to make sure we can handle longer sequences. See also chapt. 3.2 in Zucchini."
   ]
  },
  {
   "cell_type": "code",
   "execution_count": 75,
   "metadata": {},
   "outputs": [],
   "source": [
    "# Forward algorithm\n",
    "from scipy.stats import norm\n",
    "\n",
    "# Initialize alphas using the initial distribution\n",
    "# scale the distribution by the sum of the alphas to prevent underflow\n",
    "ones = np.ones((k, 1), dtype = np.int32)\n",
    "phi = pi / np.dot(pi, ones) # ==> this is just scaling by 1 \n",
    "# Initialize states to 0\n",
    "states = np.zeros(T, dtype = np.int32)\n",
    "# Initialize log-likelihood to 0\n",
    "L = 0\n",
    "# For each observation, compute the state using the forward algorithm\n",
    "for t, x in enumerate(obs):\n",
    "    # Compute probabilities for x at timestep t\n",
    "    p = norm.pdf(x, mu, sd)\n",
    "    # Convert to diagonal matrix\n",
    "    P = np.diag(p)\n",
    "    # Form the matrix B\n",
    "    B = np.dot(g, P)\n",
    "    # Create the vector v as the product of scaled alphas and B\n",
    "    v = np.dot(phi, B)\n",
    "    # Create the scalar u as the sum of the scaled alphas\n",
    "    u = np.dot(v, ones)\n",
    "    # Add to log-likelihood\n",
    "    L += np.log(u)\n",
    "    # Scale vector by the sum of v to create new phi\n",
    "    phi = v / u\n",
    "    # Add state\n",
    "    states[t] = np.argmax(phi)"
   ]
  },
  {
   "cell_type": "code",
   "execution_count": 76,
   "metadata": {},
   "outputs": [
    {
     "name": "stdout",
     "output_type": "stream",
     "text": [
      "First 10 observations ...\n"
     ]
    },
    {
     "data": {
      "text/html": [
       "<div>\n",
       "<style scoped>\n",
       "    .dataframe tbody tr th:only-of-type {\n",
       "        vertical-align: middle;\n",
       "    }\n",
       "\n",
       "    .dataframe tbody tr th {\n",
       "        vertical-align: top;\n",
       "    }\n",
       "\n",
       "    .dataframe thead th {\n",
       "        text-align: right;\n",
       "    }\n",
       "</style>\n",
       "<table border=\"1\" class=\"dataframe\">\n",
       "  <thead>\n",
       "    <tr style=\"text-align: right;\">\n",
       "      <th></th>\n",
       "      <th>predicted</th>\n",
       "      <th>actual</th>\n",
       "    </tr>\n",
       "  </thead>\n",
       "  <tbody>\n",
       "    <tr>\n",
       "      <th>0</th>\n",
       "      <td>0</td>\n",
       "      <td>0</td>\n",
       "    </tr>\n",
       "    <tr>\n",
       "      <th>1</th>\n",
       "      <td>0</td>\n",
       "      <td>0</td>\n",
       "    </tr>\n",
       "    <tr>\n",
       "      <th>2</th>\n",
       "      <td>0</td>\n",
       "      <td>0</td>\n",
       "    </tr>\n",
       "    <tr>\n",
       "      <th>3</th>\n",
       "      <td>0</td>\n",
       "      <td>0</td>\n",
       "    </tr>\n",
       "    <tr>\n",
       "      <th>4</th>\n",
       "      <td>1</td>\n",
       "      <td>0</td>\n",
       "    </tr>\n",
       "    <tr>\n",
       "      <th>5</th>\n",
       "      <td>1</td>\n",
       "      <td>1</td>\n",
       "    </tr>\n",
       "    <tr>\n",
       "      <th>6</th>\n",
       "      <td>0</td>\n",
       "      <td>0</td>\n",
       "    </tr>\n",
       "    <tr>\n",
       "      <th>7</th>\n",
       "      <td>1</td>\n",
       "      <td>1</td>\n",
       "    </tr>\n",
       "    <tr>\n",
       "      <th>8</th>\n",
       "      <td>0</td>\n",
       "      <td>0</td>\n",
       "    </tr>\n",
       "    <tr>\n",
       "      <th>9</th>\n",
       "      <td>1</td>\n",
       "      <td>1</td>\n",
       "    </tr>\n",
       "  </tbody>\n",
       "</table>\n",
       "</div>"
      ],
      "text/plain": [
       "   predicted  actual\n",
       "0          0       0\n",
       "1          0       0\n",
       "2          0       0\n",
       "3          0       0\n",
       "4          1       0\n",
       "5          1       1\n",
       "6          0       0\n",
       "7          1       1\n",
       "8          0       0\n",
       "9          1       1"
      ]
     },
     "execution_count": 76,
     "metadata": {},
     "output_type": "execute_result"
    }
   ],
   "source": [
    "# Stack predicted and actual states column-wise\n",
    "import pandas as pd\n",
    "seqs = np.vstack((states,seq)).T\n",
    "# Cast to data frame\n",
    "print(\"First 10 observations ...\")\n",
    "pd.DataFrame(seqs, columns = [\"predicted\", \"actual\"]).head(10)"
   ]
  },
  {
   "cell_type": "code",
   "execution_count": 77,
   "metadata": {},
   "outputs": [
    {
     "name": "stdout",
     "output_type": "stream",
     "text": [
      "Log-Likelihood: [-294.74732163]\n",
      "Phi at time T: [5.43184749e-10 9.99999999e-01]\n"
     ]
    }
   ],
   "source": [
    "# Print likelihood and alphas\n",
    "print(\"Log-Likelihood: {}\".format(L))\n",
    "print(\"Phi at time T: {}\".format(phi))"
   ]
  },
  {
   "cell_type": "code",
   "execution_count": 78,
   "metadata": {},
   "outputs": [],
   "source": [
    "def HMM_forward(X: np.array, pi: np.array, gamma: np.array, \n",
    "                mu: np.array, sd: np.array, return_states = False):\n",
    "    \n",
    "    \"\"\"\n",
    "    Compute the forward step of an HMM\n",
    "    \n",
    "    :param X: n x 1 numpy array containing the observed data\n",
    "    :param pi: m x 1 numpy array containing initial values\n",
    "    :param gamma: m x m numpy array containing transition probabilities\n",
    "    :param mu: m x 1 numpy array containing means of component distributions\n",
    "    :param sd: m x 1 numpy array containing sds of component distributions\n",
    "    :param return_states: boolean. If True, then the state sequence is returned\n",
    "    \n",
    "    :return: Log-Likelihood and, if desired, the state sequence\n",
    "    \"\"\"\n",
    "    \n",
    "    # For dimensions\n",
    "    m = mu.shape[0]\n",
    "    T = X.shape[0]\n",
    "    \n",
    "    # Initialize alphas using the initial distribution\n",
    "    # scale the distribution by the sum of the alphas to prevent underflow\n",
    "    ones = np.ones((m, 1), dtype = np.int32)\n",
    "    phi = pi \n",
    "    # Initialize states to 0\n",
    "    if return_states: states = np.zeros(T, dtype = np.int32)\n",
    "    # Initialize log-likelihood to 0\n",
    "    L = 0\n",
    "    # For each observation, compute the state using the forward algorithm\n",
    "    for t, x in enumerate(X):\n",
    "        # Compute probabilities for x at timestep t\n",
    "        p = norm.pdf(x, mu, sd)\n",
    "        # Convert to diagonal matrix\n",
    "        P = np.diag(p)\n",
    "        # Form the matrix B\n",
    "        B = np.dot(gamma, P)\n",
    "        # Create the vector v as the product of scaled alphas and B\n",
    "        v = np.dot(phi, B)\n",
    "        # Create the scalar u as the sum of the scaled alphas\n",
    "        u = np.dot(v, ones)\n",
    "        # Add to log-likelihood\n",
    "        L += np.log(u)\n",
    "        # Scale vector by the sum of v to create new phi\n",
    "        phi = v / u\n",
    "        # Add state\n",
    "        if return_states: states[t] = np.argmax(phi)\n",
    "        \n",
    "    # Return\n",
    "    if return_states:\n",
    "        return((L, states))\n",
    "    else:\n",
    "        return(L)"
   ]
  },
  {
   "cell_type": "markdown",
   "metadata": {},
   "source": [
    "## Optimization using an unconstrained optimizer\n",
    "\n",
    "### Dealing with constraints\n",
    "\n",
    "For the HMM with normal distribution we have no real constraints on the parameters $\\mu_1, \\mu_2, \\sigma^2_1, \\sigma^2_2$ since they are continuous and can take on any value. However, we have a constraint on the transition probability matrix $\\pmb{\\Gamma}$ because its rows must sum to one."
   ]
  },
  {
   "cell_type": "code",
   "execution_count": 79,
   "metadata": {},
   "outputs": [],
   "source": [
    "def transform_tpm(gamma: np.array) -> dict:\n",
    "    \n",
    "    \"\"\"\n",
    "    Transform the transition probability matrix gamma using the function g(x) = exp(x)\n",
    "    \"\"\"\n",
    "    \n",
    "    # Apply transformation of gamma\n",
    "    # NOTE: have to reshape this as a column vector to make it compatible with R implementation\n",
    "    tgamma = np.log(gamma / np.diag(gamma).reshape((gamma.shape[0],1)))\n",
    "    # Retrieve off-diagonal elements\n",
    "    # NOTE: have to reverse the nonzero elements to make it compatible with R implementation\n",
    "    idx_tau = np.nonzero(tgamma)[::-1]\n",
    "    # Retrieve nonzero elements\n",
    "    tgamma_flat = tgamma[idx_tau]\n",
    "    # Return values of transformation and indices\n",
    "    return({\"tgamma\": tgamma_flat, \"tgamma_idx\": idx_tau})\n",
    "\n",
    "def transform_tgamma(tgamma: dict) -> np.array:\n",
    "    \n",
    "    \"\"\"\n",
    "    Transform the transformed values of gamma back to probabilities\n",
    "    \"\"\"\n",
    "    \n",
    "    # Get values from dict\n",
    "    tgamma, tgamma_idx = tgamma.values()\n",
    "    # Identity matrix\n",
    "    z = np.eye(tgamma_idx[0].shape[0])\n",
    "    # Fill off-diagonal elements\n",
    "    z[tgamma_idx] = np.exp(tgamma)\n",
    "    # Scale\n",
    "    z /= np.sum(z, axis=1).reshape((z.shape[0], 1))\n",
    "    # Solve for delta (initial values)\n",
    "    delta = np.linalg.solve((np.eye(z.shape[0]) - z + 1).T, np.ones(z.shape[0]))\n",
    "    # Return\n",
    "    return((z, delta))"
   ]
  },
  {
   "cell_type": "code",
   "execution_count": 80,
   "metadata": {},
   "outputs": [
    {
     "name": "stdout",
     "output_type": "stream",
     "text": [
      "[[0.33 0.67]\n",
      " [0.89 0.11]]\n",
      "[0.57051282 0.42948718]\n"
     ]
    }
   ],
   "source": [
    "# Transform the transition probability matrix\n",
    "a = transform_tpm(g)\n",
    "# Transform back and solve for delta\n",
    "gam, delta = transform_tgamma(a)\n",
    "# Print\n",
    "print(gam)\n",
    "print(delta)"
   ]
  },
  {
   "cell_type": "markdown",
   "metadata": {},
   "source": [
    "### Starting values\n",
    "\n",
    "To assign starting values for the parameters, we can do the following:\n",
    "\n",
    "1. For means, we can divide the observations into $k$ subsets using quartiles/quantiles and take the mean of the subsets.\n",
    "2. For variances, we can take the variance of the $k$ subsets.\n",
    "3. For initial transition probabilities, we can initialize the matrix $\\pmb{\\Gamma}$ using a uniform distribution with small values (e.g. 0.01 - 0.05) or initialize all values using the same, small value (e.g. 0.01)."
   ]
  },
  {
   "cell_type": "code",
   "execution_count": 81,
   "metadata": {},
   "outputs": [],
   "source": [
    "# Initial values \n",
    "gamma = np.array([[0.99, 0.01],\n",
    "                  [0.01, 0.99]])\n",
    "# Split observed data at median\n",
    "gr1 = obs[obs < np.median(obs)]\n",
    "gr2 = obs[obs >= np.median(obs)]\n",
    "# Construct means / variances\n",
    "mu = np.array([np.mean(gr1), np.mean(gr2)])\n",
    "sd = np.array([np.sqrt(np.var(gr1)), np.sqrt(np.mean(gr2))])"
   ]
  },
  {
   "cell_type": "code",
   "execution_count": 82,
   "metadata": {},
   "outputs": [
    {
     "data": {
      "text/plain": [
       "array([-4.59511985, -4.59511985,  6.21368217, 13.91755962,  1.38666451,\n",
       "        3.73062468])"
      ]
     },
     "execution_count": 82,
     "metadata": {},
     "output_type": "execute_result"
    }
   ],
   "source": [
    "# Minimize function only takes a single array, so we need to add all parameters to a single array\n",
    "tgamma, tgamma_idx = transform_tpm(gamma).values()\n",
    "# Concatenate values to flat array\n",
    "x0 = np.concatenate([tgamma, mu, sd])\n",
    "x0"
   ]
  },
  {
   "cell_type": "code",
   "execution_count": 83,
   "metadata": {},
   "outputs": [],
   "source": [
    "from scipy.optimize import minimize\n",
    "\n",
    "def HMM(parameters: np.array, *args: tuple) -> float:\n",
    "    \n",
    "    \"\"\"\n",
    "    Given an array of parameters, compute the log-likelihood of the HMM\n",
    "    \n",
    "    :param parameters: parameters passed to the model. This is a single (flat)\n",
    "                        numpy array whose valuese correspond to the following \n",
    "                        parameters:\n",
    "                         (1) indices 0:(m*(m-1)) ==> transformed values of the \n",
    "                              transition matrix\n",
    "                         (2) indices (m*(m-1)):[(m*(m-1))+m] ==> means of the \n",
    "                              component distributions\n",
    "                         (3) indices [(m*(m-1))+m]:[(m*(m-1))+2*m] ==> variances\n",
    "                              of the component distributions\n",
    "    :param *args: additional parameters passed to the function:\n",
    "                         (1) args[0] ==> number of components\n",
    "                         (2) args[1] ==> tuple of numpy arrays used to transform\n",
    "                                          the transformed gamma values back to\n",
    "                                          their original form\n",
    "                                          \n",
    "    :return: Log-Likelihood of the model given the parameters\n",
    "                                          \n",
    "    :seealso: functions transform_tpm() and transform_tgamma() above\n",
    "    \n",
    "    :seealso: Zucchini, W., MacDonald, I. L., & Langrock, R. (2017). Hidden Markov \n",
    "                             models for time series: an introduction using R. \n",
    "                             Chapman and Hall/CRC. Chapters 2-3\n",
    "    \"\"\"\n",
    "    \n",
    "    # Args is the size of the 2x2 gamma matrix and the tgamma idices to backtransform to gamma\n",
    "    m = args[0]\n",
    "    tgamma_idx = args[1]\n",
    "    \n",
    "    # Unroll parameters\n",
    "    tgamma = parameters[:(m*(m-1))]\n",
    "    mu = parameters[(m*(m-1)):(m*(m-1)+m)]\n",
    "    sd = parameters[(m*(m-1)+m):(m*(m-1)+2*m)]\n",
    "    \n",
    "    # Transform working parameters to natural parameters \n",
    "    # And solve for delta (initial values)\n",
    "    gamma, pi = transform_tgamma({\"tgamma\": tgamma, \"tgamma_idx\": tgamma_idx})\n",
    "    \n",
    "    # Compute LL\n",
    "    L = HMM_forward(obs, pi, gamma, mu, sd, return_states = False)\n",
    "    \n",
    "    # Return log-likelihood\n",
    "    return( -1 * L[0] )"
   ]
  },
  {
   "cell_type": "code",
   "execution_count": 84,
   "metadata": {},
   "outputs": [],
   "source": [
    "# Use optimize function from scipy\n",
    "res = minimize(HMM, x0, args = (2, tgamma_idx), method = \"L-BFGS-B\",\n",
    "               options = {'disp':True})"
   ]
  },
  {
   "cell_type": "code",
   "execution_count": 85,
   "metadata": {},
   "outputs": [],
   "source": [
    "# Transform gamma and pi\n",
    "gamma, pi = transform_tgamma({\"tgamma\":res.x[:2], \"tgamma_idx\":tgamma_idx})\n",
    "# Construct mu, sd\n",
    "mu = res.x[2:4]\n",
    "sd = res.x[4:6]"
   ]
  },
  {
   "cell_type": "code",
   "execution_count": 86,
   "metadata": {},
   "outputs": [],
   "source": [
    "# Compute state sequences\n",
    "_, states_pred = HMM_forward(obs, pi, gamma, mu, sd, return_states = True)"
   ]
  },
  {
   "cell_type": "code",
   "execution_count": 87,
   "metadata": {},
   "outputs": [
    {
     "name": "stdout",
     "output_type": "stream",
     "text": [
      "First 10 observations ...\n",
      "Steps correct: 95.0%\n"
     ]
    },
    {
     "data": {
      "text/html": [
       "<div>\n",
       "<style scoped>\n",
       "    .dataframe tbody tr th:only-of-type {\n",
       "        vertical-align: middle;\n",
       "    }\n",
       "\n",
       "    .dataframe tbody tr th {\n",
       "        vertical-align: top;\n",
       "    }\n",
       "\n",
       "    .dataframe thead th {\n",
       "        text-align: right;\n",
       "    }\n",
       "</style>\n",
       "<table border=\"1\" class=\"dataframe\">\n",
       "  <thead>\n",
       "    <tr style=\"text-align: right;\">\n",
       "      <th></th>\n",
       "      <th>predicted</th>\n",
       "      <th>actual</th>\n",
       "    </tr>\n",
       "  </thead>\n",
       "  <tbody>\n",
       "    <tr>\n",
       "      <th>0</th>\n",
       "      <td>0</td>\n",
       "      <td>0</td>\n",
       "    </tr>\n",
       "    <tr>\n",
       "      <th>1</th>\n",
       "      <td>0</td>\n",
       "      <td>0</td>\n",
       "    </tr>\n",
       "    <tr>\n",
       "      <th>2</th>\n",
       "      <td>0</td>\n",
       "      <td>0</td>\n",
       "    </tr>\n",
       "    <tr>\n",
       "      <th>3</th>\n",
       "      <td>0</td>\n",
       "      <td>0</td>\n",
       "    </tr>\n",
       "    <tr>\n",
       "      <th>4</th>\n",
       "      <td>1</td>\n",
       "      <td>0</td>\n",
       "    </tr>\n",
       "    <tr>\n",
       "      <th>5</th>\n",
       "      <td>1</td>\n",
       "      <td>1</td>\n",
       "    </tr>\n",
       "    <tr>\n",
       "      <th>6</th>\n",
       "      <td>0</td>\n",
       "      <td>0</td>\n",
       "    </tr>\n",
       "    <tr>\n",
       "      <th>7</th>\n",
       "      <td>1</td>\n",
       "      <td>1</td>\n",
       "    </tr>\n",
       "    <tr>\n",
       "      <th>8</th>\n",
       "      <td>0</td>\n",
       "      <td>0</td>\n",
       "    </tr>\n",
       "    <tr>\n",
       "      <th>9</th>\n",
       "      <td>1</td>\n",
       "      <td>1</td>\n",
       "    </tr>\n",
       "  </tbody>\n",
       "</table>\n",
       "</div>"
      ],
      "text/plain": [
       "   predicted  actual\n",
       "0          0       0\n",
       "1          0       0\n",
       "2          0       0\n",
       "3          0       0\n",
       "4          1       0\n",
       "5          1       1\n",
       "6          0       0\n",
       "7          1       1\n",
       "8          0       0\n",
       "9          1       1"
      ]
     },
     "execution_count": 87,
     "metadata": {},
     "output_type": "execute_result"
    }
   ],
   "source": [
    "# Stack predicted and actual states column-wise\n",
    "import pandas as pd\n",
    "seqs = np.vstack((states_pred,seq)).T\n",
    "# Cast to data frame\n",
    "print(\"First 10 observations ...\")\n",
    "print(\"Steps correct: {}%\".format(np.round(sum(states_pred == seq) / len(seq),4) * 100))\n",
    "pd.DataFrame(seqs, columns = [\"predicted\", \"actual\"]).head(10)"
   ]
  },
  {
   "cell_type": "markdown",
   "metadata": {},
   "source": [
    "## Optimization using Expectation-Maximization (EM) \n",
    "\n",
    "The function below is a general, recursive function that can be used to compute the likelihood and state sequence."
   ]
  },
  {
   "cell_type": "code",
   "execution_count": null,
   "metadata": {},
   "outputs": [],
   "source": [
    "def HMM_EM(X: np.array, phi: np.array, gamma: np.array, k: int, **kwargs) -> tuple:\n",
    "    \n",
    "    \"\"\"\n",
    "    Use forward algorithm to compute the state sequence and Log-Likelihood\n",
    "    \n",
    "    :param X: Observed data\n",
    "    :param phi: Initial distribution\n",
    "    :param gamma: Transition Probability Matrix \n",
    "    :param k: Number of hidden states\n",
    "    \n",
    "    :return: tuple containing \n",
    "        (1) state sequence as T-dimensional array\n",
    "        (2) Log-Likelihood\n",
    "    \"\"\"\n",
    "    \n",
    "    # Initialize alphas using the initial distribution\n",
    "    # scale the distribution by the sum of the alphas to prevent underflow\n",
    "    ones = np.ones((k, 1), dtype = np.int32)\n",
    "    # If states not supplied, initialize them\n",
    "    if kwargs.get(\"states\") is None:\n",
    "        # Initialize states to 0\n",
    "        states = np.zeros(X.shape[0], dtype = np.int32)\n",
    "    else:\n",
    "        states = kwargs[\"states\"]\n",
    "    # Initialize log-likelihood to 0 if not passed\n",
    "    if kwargs.get(\"L\") is None:\n",
    "        L = kwargs[\"L\"]\n",
    "    else:\n",
    "        L = 0\n",
    "        \n",
    "    # ...\n",
    "    pass"
   ]
  },
  {
   "cell_type": "markdown",
   "metadata": {},
   "source": [
    "## References\n",
    "\n",
    "[1] Zucchini, W., MacDonald, I. L., & Langrock, R. (2017). Hidden Markov models for time series: an introduction using R. Chapman and Hall/CRC. <br>\n",
    "[2] Visser, I. (2011). Seven things to remember about hidden Markov models: A tutorial on Markovian models for time series. Journal of Mathematical Psychology, 55(6), 403-415. <br>"
   ]
  },
  {
   "cell_type": "code",
   "execution_count": null,
   "metadata": {},
   "outputs": [],
   "source": []
  }
 ],
 "metadata": {
  "@webio": {
   "lastCommId": null,
   "lastKernelId": null
  },
  "kernelspec": {
   "display_name": "HMM",
   "language": "python",
   "name": "hmm"
  },
  "language_info": {
   "codemirror_mode": {
    "name": "ipython",
    "version": 3
   },
   "file_extension": ".py",
   "mimetype": "text/x-python",
   "name": "python",
   "nbconvert_exporter": "python",
   "pygments_lexer": "ipython3",
   "version": "3.6.5"
  }
 },
 "nbformat": 4,
 "nbformat_minor": 2
}
