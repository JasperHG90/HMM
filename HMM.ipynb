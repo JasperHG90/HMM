{
 "cells": [
  {
   "cell_type": "markdown",
   "metadata": {},
   "source": [
    "## Simulating data for Gaussian response distributions\n",
    "\n",
    "### Simulating a hidden sequence"
   ]
  },
  {
   "cell_type": "code",
   "execution_count": 121,
   "metadata": {},
   "outputs": [],
   "source": [
    "import numpy as np\n",
    "\n",
    "# Number of components \n",
    "k = 2\n",
    "# Timesteps t\n",
    "T = 100\n",
    "# Set seed\n",
    "np.random.seed(5637)\n",
    "# Transition matrix\n",
    "g = np.array([[0.3, 0.7],\n",
    "              [0.6, 0.4]])\n",
    "# Initial states\n",
    "pi = np.array([0.8, 0.2])\n",
    "# mu / sd of the states\n",
    "mu = np.array([5,20])\n",
    "sd = np.array([2,4])\n",
    "# Draw from one of the states with probability pi_i\n",
    "np.random.multinomial(1, pi)\n",
    "# Generate sequence\n",
    "seq = np.zeros((T, 1), dtype = np.int32)\n",
    "for t in range(T):\n",
    "    if t == 0:\n",
    "        seq[t,:] = int(np.nonzero(np.random.multinomial(1, pi))[0])\n",
    "    else:\n",
    "        seq[t,:] = int(np.nonzero(np.random.multinomial(1, np.dot(pi, np.linalg.matrix_power(g, t))))[0])\n",
    "        \n",
    "# Squeeze output\n",
    "seq = seq.squeeze()"
   ]
  },
  {
   "cell_type": "markdown",
   "metadata": {},
   "source": [
    "### Simulating observed data "
   ]
  },
  {
   "cell_type": "code",
   "execution_count": 122,
   "metadata": {},
   "outputs": [],
   "source": [
    "# Allocate\n",
    "obs = np.zeros(T, dtype = np.float32)\n",
    "# Set seed\n",
    "np.random.seed(88876)\n",
    "# Populate\n",
    "for i in range(T):\n",
    "    # Get state\n",
    "    state = seq[i]\n",
    "    # Draw from normal distribution\n",
    "    obs[i] = np.round(np.random.normal(mu[state], sd[state]), 4)"
   ]
  },
  {
   "cell_type": "code",
   "execution_count": 124,
   "metadata": {},
   "outputs": [
    {
     "name": "stderr",
     "output_type": "stream",
     "text": [
      "/home/jasper/.local/lib/python3.6/site-packages/matplotlib/axes/_axes.py:6571: UserWarning: The 'normed' kwarg is deprecated, and has been replaced by the 'density' kwarg.\n",
      "  warnings.warn(\"The 'normed' kwarg is deprecated, and has been \"\n"
     ]
    },
    {
     "data": {
      "text/plain": [
       "<matplotlib.axes._subplots.AxesSubplot at 0x7f0d4ba47f28>"
      ]
     },
     "execution_count": 124,
     "metadata": {},
     "output_type": "execute_result"
    },
    {
     "data": {
      "image/png": "[encoded data removed]",
      "text/plain": [
       "<Figure size 432x288 with 1 Axes>"
      ]
     },
     "metadata": {},
     "output_type": "display_data"
    }
   ],
   "source": [
    "# Plot observed data\n",
    "import matplotlib.pyplot as plt\n",
    "%matplotlib inline\n",
    "import seaborn as sns\n",
    "sns.distplot(obs)"
   ]
  },
  {
   "cell_type": "markdown",
   "metadata": {},
   "source": [
    "## Estimating the state sequence"
   ]
  },
  {
   "cell_type": "code",
   "execution_count": 155,
   "metadata": {},
   "outputs": [],
   "source": [
    "# Forward algorithm\n",
    "from scipy.stats import norm\n",
    "\n",
    "# We use the initial probabilities pi\n",
    "# NOTE: we shouldn't really know these ...\n",
    "\n",
    "# Initialize alpha using the initial distribution\n",
    "alpha = pi\n",
    "# Initialize states to 0\n",
    "states = np.zeros(T, dtype = np.int32)\n",
    "# For each observation and timestep t, compute the state using the forward algorithm\n",
    "for t, x in enumerate(obs):\n",
    "    # Compute probabilities for x at timestep t\n",
    "    # Note that we are not assuming stationarity because we have alpha_1 = pi * P \n",
    "    #  at t == 1\n",
    "    # Note that we are using population values mu and sd here\n",
    "    p = norm.pdf(x, mu, sd)\n",
    "    # Convert to diagonal matrix\n",
    "    P = np.diag(p)\n",
    "    # Form the matrix B\n",
    "    B = np.dot(g, P)\n",
    "    # Update alpha\n",
    "    alpha = np.dot(alpha, B)\n",
    "    # Add state\n",
    "    states[t] = np.argmax(alpha)\n",
    "    # At the last step, dot with 1' to get the likelihood\n",
    "    if t == (T-1):\n",
    "        L = np.dot(alpha, np.ones((k, 1), dtype = np.int32))"
   ]
  },
  {
   "cell_type": "code",
   "execution_count": 183,
   "metadata": {},
   "outputs": [
    {
     "name": "stdout",
     "output_type": "stream",
     "text": [
      "First 10 observations ...\n"
     ]
    },
    {
     "data": {
      "text/html": [
       "<div>\n",
       "<style scoped>\n",
       "    .dataframe tbody tr th:only-of-type {\n",
       "        vertical-align: middle;\n",
       "    }\n",
       "\n",
       "    .dataframe tbody tr th {\n",
       "        vertical-align: top;\n",
       "    }\n",
       "\n",
       "    .dataframe thead th {\n",
       "        text-align: right;\n",
       "    }\n",
       "</style>\n",
       "<table border=\"1\" class=\"dataframe\">\n",
       "  <thead>\n",
       "    <tr style=\"text-align: right;\">\n",
       "      <th></th>\n",
       "      <th>predicted</th>\n",
       "      <th>actual</th>\n",
       "    </tr>\n",
       "  </thead>\n",
       "  <tbody>\n",
       "    <tr>\n",
       "      <th>0</th>\n",
       "      <td>0</td>\n",
       "      <td>0</td>\n",
       "    </tr>\n",
       "    <tr>\n",
       "      <th>1</th>\n",
       "      <td>1</td>\n",
       "      <td>1</td>\n",
       "    </tr>\n",
       "    <tr>\n",
       "      <th>2</th>\n",
       "      <td>1</td>\n",
       "      <td>1</td>\n",
       "    </tr>\n",
       "    <tr>\n",
       "      <th>3</th>\n",
       "      <td>1</td>\n",
       "      <td>1</td>\n",
       "    </tr>\n",
       "    <tr>\n",
       "      <th>4</th>\n",
       "      <td>0</td>\n",
       "      <td>0</td>\n",
       "    </tr>\n",
       "    <tr>\n",
       "      <th>5</th>\n",
       "      <td>0</td>\n",
       "      <td>0</td>\n",
       "    </tr>\n",
       "    <tr>\n",
       "      <th>6</th>\n",
       "      <td>0</td>\n",
       "      <td>0</td>\n",
       "    </tr>\n",
       "    <tr>\n",
       "      <th>7</th>\n",
       "      <td>1</td>\n",
       "      <td>1</td>\n",
       "    </tr>\n",
       "    <tr>\n",
       "      <th>8</th>\n",
       "      <td>0</td>\n",
       "      <td>0</td>\n",
       "    </tr>\n",
       "    <tr>\n",
       "      <th>9</th>\n",
       "      <td>1</td>\n",
       "      <td>1</td>\n",
       "    </tr>\n",
       "  </tbody>\n",
       "</table>\n",
       "</div>"
      ],
      "text/plain": [
       "   predicted  actual\n",
       "0          0       0\n",
       "1          1       1\n",
       "2          1       1\n",
       "3          1       1\n",
       "4          0       0\n",
       "5          0       0\n",
       "6          0       0\n",
       "7          1       1\n",
       "8          0       0\n",
       "9          1       1"
      ]
     },
     "execution_count": 183,
     "metadata": {},
     "output_type": "execute_result"
    }
   ],
   "source": [
    "# Stack predicted and actual states column-wise\n",
    "import pandas as pd\n",
    "seqs = np.vstack((states,seq)).T\n",
    "# Cast to data frame\n",
    "print(\"First 10 observations ...\")\n",
    "pd.DataFrame(seqs, columns = [\"predicted\", \"actual\"]).head(10)"
   ]
  },
  {
   "cell_type": "code",
   "execution_count": 189,
   "metadata": {},
   "outputs": [
    {
     "name": "stdout",
     "output_type": "stream",
     "text": [
      "Likelihood: [-318.9896569]\n",
      "Alphas at time T: [7.07939551e-278 9.97743033e-281]\n"
     ]
    }
   ],
   "source": [
    "# Print likelihood and alphas\n",
    "print(\"Likelihood: {}\".format(L))\n",
    "print(\"Alphas at time T: {}\".format(alpha))"
   ]
  },
  {
   "cell_type": "markdown",
   "metadata": {},
   "source": [
    "In the above implementation of the forward algorithm, clearly we are running into the issue of underflow. The values for the alphas are getting very small, and we need to start using some computational tricks to make sure we can handle longer sequences. See also chapt. 3.2 in Zucchini."
   ]
  },
  {
   "cell_type": "code",
   "execution_count": 185,
   "metadata": {},
   "outputs": [],
   "source": [
    "# Forward algorithm\n",
    "from scipy.stats import norm\n",
    "\n",
    "# Initialize alphas using the initial distribution\n",
    "# scale the distribution by the sum of the alphas to prevent underflow\n",
    "ones = np.ones((k, 1), dtype = np.int32)\n",
    "phi = pi / np.dot(pi, ones) # ==> this is just scaling by 1 \n",
    "# Initialize states to 0\n",
    "states = np.zeros(T, dtype = np.int32)\n",
    "# Initialize log-likelihood to 0\n",
    "L = 0\n",
    "# For each observation, compute the state using the forward algorithm\n",
    "for t, x in enumerate(obs):\n",
    "    # Compute probabilities for x at timestep t\n",
    "    p = norm.pdf(x, mu, sd)\n",
    "    # Convert to diagonal matrix\n",
    "    P = np.diag(p)\n",
    "    # Form the matrix B\n",
    "    B = np.dot(g, P)\n",
    "    # Create the vector v as the product of scaled alphas and B\n",
    "    v = np.dot(phi, B)\n",
    "    # Create the scalar u as the sum of the scaled alphas\n",
    "    u = np.dot(v, ones)\n",
    "    # Add to log-likelihood\n",
    "    L += np.log(u)\n",
    "    # Scale vector by the sum of v to create new phi\n",
    "    phi = v / u\n",
    "    # Add state\n",
    "    states[t] = np.argmax(phi)"
   ]
  },
  {
   "cell_type": "code",
   "execution_count": 188,
   "metadata": {},
   "outputs": [
    {
     "name": "stdout",
     "output_type": "stream",
     "text": [
      "First 10 observations ...\n"
     ]
    },
    {
     "data": {
      "text/html": [
       "<div>\n",
       "<style scoped>\n",
       "    .dataframe tbody tr th:only-of-type {\n",
       "        vertical-align: middle;\n",
       "    }\n",
       "\n",
       "    .dataframe tbody tr th {\n",
       "        vertical-align: top;\n",
       "    }\n",
       "\n",
       "    .dataframe thead th {\n",
       "        text-align: right;\n",
       "    }\n",
       "</style>\n",
       "<table border=\"1\" class=\"dataframe\">\n",
       "  <thead>\n",
       "    <tr style=\"text-align: right;\">\n",
       "      <th></th>\n",
       "      <th>predicted</th>\n",
       "      <th>actual</th>\n",
       "    </tr>\n",
       "  </thead>\n",
       "  <tbody>\n",
       "    <tr>\n",
       "      <th>0</th>\n",
       "      <td>0</td>\n",
       "      <td>0</td>\n",
       "    </tr>\n",
       "    <tr>\n",
       "      <th>1</th>\n",
       "      <td>1</td>\n",
       "      <td>1</td>\n",
       "    </tr>\n",
       "    <tr>\n",
       "      <th>2</th>\n",
       "      <td>1</td>\n",
       "      <td>1</td>\n",
       "    </tr>\n",
       "    <tr>\n",
       "      <th>3</th>\n",
       "      <td>1</td>\n",
       "      <td>1</td>\n",
       "    </tr>\n",
       "    <tr>\n",
       "      <th>4</th>\n",
       "      <td>0</td>\n",
       "      <td>0</td>\n",
       "    </tr>\n",
       "    <tr>\n",
       "      <th>5</th>\n",
       "      <td>0</td>\n",
       "      <td>0</td>\n",
       "    </tr>\n",
       "    <tr>\n",
       "      <th>6</th>\n",
       "      <td>0</td>\n",
       "      <td>0</td>\n",
       "    </tr>\n",
       "    <tr>\n",
       "      <th>7</th>\n",
       "      <td>1</td>\n",
       "      <td>1</td>\n",
       "    </tr>\n",
       "    <tr>\n",
       "      <th>8</th>\n",
       "      <td>0</td>\n",
       "      <td>0</td>\n",
       "    </tr>\n",
       "    <tr>\n",
       "      <th>9</th>\n",
       "      <td>1</td>\n",
       "      <td>1</td>\n",
       "    </tr>\n",
       "  </tbody>\n",
       "</table>\n",
       "</div>"
      ],
      "text/plain": [
       "   predicted  actual\n",
       "0          0       0\n",
       "1          1       1\n",
       "2          1       1\n",
       "3          1       1\n",
       "4          0       0\n",
       "5          0       0\n",
       "6          0       0\n",
       "7          1       1\n",
       "8          0       0\n",
       "9          1       1"
      ]
     },
     "execution_count": 188,
     "metadata": {},
     "output_type": "execute_result"
    }
   ],
   "source": [
    "# Stack predicted and actual states column-wise\n",
    "import pandas as pd\n",
    "seqs = np.vstack((states,seq)).T\n",
    "# Cast to data frame\n",
    "print(\"First 10 observations ...\")\n",
    "pd.DataFrame(seqs, columns = [\"predicted\", \"actual\"]).head(10)"
   ]
  },
  {
   "cell_type": "code",
   "execution_count": 194,
   "metadata": {},
   "outputs": [
    {
     "name": "stdout",
     "output_type": "stream",
     "text": [
      "Log-Likelihood: [-318.9896569]\n",
      "Phi at time T: [0.99859262 0.00140738]\n"
     ]
    }
   ],
   "source": [
    "# Print likelihood and alphas\n",
    "print(\"Log-Likelihood: {}\".format(L))\n",
    "print(\"Phi at time T: {}\".format(phi))"
   ]
  },
  {
   "cell_type": "markdown",
   "metadata": {},
   "source": [
    "### Dealing with constraints\n",
    "\n",
    "For the normal HMM we have no real constraints on the parameters $\\mu_1, \\mu_2, \\sigma^2_1, \\sigma^2_2$ since they are continuous and can take on any value. However, we have a constraint on the transition probability matrix $\\pmb{\\Gamma}$ because its rows must sum to one."
   ]
  },
  {
   "cell_type": "code",
   "execution_count": 278,
   "metadata": {},
   "outputs": [],
   "source": [
    "def transform_tpm(gamma: np.array) -> dict:\n",
    "    \n",
    "    \"\"\"\n",
    "    Transform the transition probability matrix gamma using the function g(x) = exp(x)\n",
    "    \"\"\"\n",
    "    \n",
    "    # Apply transformation of gamma\n",
    "    # NOTE: have to reshape this as a column vector to make it compatible with R implementation\n",
    "    tgamma = np.log(g / np.diag(g).reshape((gamma.shape[0],1)))\n",
    "    # Retrieve off-diagonal elements\n",
    "    # NOTE: have to reverse the nonzero elements to make it compatible with R implementation\n",
    "    idx_tau = np.nonzero(tgamma)[::-1]\n",
    "    # Retrieve nonzero elements\n",
    "    tgamma_flat = tgamma[idx_tau]\n",
    "    # Return values of transformation and indices\n",
    "    return({\"tgamma\": tgamma_flat, \"tgamma_idx\": idx_tau})\n",
    "\n",
    "def transform_tgamma(tgamma: dict) -> np.array:\n",
    "    \n",
    "    \"\"\"\n",
    "    Transform the transformed values of gamma back to probabilities\n",
    "    \"\"\"\n",
    "    \n",
    "    # Get values from dict\n",
    "    tgamma, tgamma_idx = tgamma.values()\n",
    "    # Identity matrix\n",
    "    z = np.eye(tgamma_idx[0].shape[0])\n",
    "    # Fill off-diagonal elements\n",
    "    z[tgamma_idx] = np.exp(tgamma)\n",
    "    # Scale\n",
    "    z /= np.sum(z, axis=1).reshape((z.shape[0], 1))\n",
    "    # Return\n",
    "    return(z)"
   ]
  },
  {
   "cell_type": "markdown",
   "metadata": {},
   "source": [
    "### Starting values\n",
    "\n",
    "To assign starting values for the parameters, we can do the following:\n",
    "\n",
    "1. For means, we can divide the observations into $k$ subsets, "
   ]
  },
  {
   "cell_type": "markdown",
   "metadata": {},
   "source": [
    "The function below is a general, recursive function that can be used to compute the likelihood and state sequence."
   ]
  },
  {
   "cell_type": "code",
   "execution_count": null,
   "metadata": {},
   "outputs": [],
   "source": [
    "def HMM_forward(X: np.array, phi: np.array, gamma: np.array, k: int, **kwargs) -> tuple:\n",
    "    \n",
    "    \"\"\"\n",
    "    Use forward algorithm to compute the state sequence and Log-Likelihood\n",
    "    \n",
    "    :param X: Observed data\n",
    "    :param phi: Initial distribution\n",
    "    :param gamma: Transition Probability Matrix \n",
    "    :param k: Number of hidden states\n",
    "    \n",
    "    :return: tuple containing \n",
    "        (1) state sequence as T-dimensional array\n",
    "        (2) Log-Likelihood\n",
    "    \"\"\"\n",
    "    \n",
    "    # Initialize alphas using the initial distribution\n",
    "    # scale the distribution by the sum of the alphas to prevent underflow\n",
    "    ones = np.ones((k, 1), dtype = np.int32)\n",
    "    # If states not supplied, initialize them\n",
    "    if kwargs.get(\"states\") is None:\n",
    "        # Initialize states to 0\n",
    "        states = np.zeros(X.shape[0], dtype = np.int32)\n",
    "    else:\n",
    "        states = kwargs[\"states\"]\n",
    "    # Initialize log-likelihood to 0 if not passed\n",
    "    if kwargs.get(\"L\") is None:\n",
    "        L = kwargs[\"L\"]\n",
    "    else:\n",
    "        L = 0\n",
    "        \n",
    "    # ...\n",
    "    pass"
   ]
  }
 ],
 "metadata": {
  "@webio": {
   "lastCommId": null,
   "lastKernelId": null
  },
  "kernelspec": {
   "display_name": "HMM",
   "language": "python",
   "name": "hmm"
  },
  "language_info": {
   "codemirror_mode": {
    "name": "ipython",
    "version": 3
   },
   "file_extension": ".py",
   "mimetype": "text/x-python",
   "name": "python",
   "nbconvert_exporter": "python",
   "pygments_lexer": "ipython3",
   "version": "3.6.5"
  }
 },
 "nbformat": 4,
 "nbformat_minor": 2
}
